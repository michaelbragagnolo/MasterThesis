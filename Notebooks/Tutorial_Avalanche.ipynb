{
 "cells": [
  {
   "cell_type": "markdown",
   "id": "bc0e7ab0",
   "metadata": {},
   "source": [
    "# Avalanche tutorial"
   ]
  },
  {
   "cell_type": "markdown",
   "id": "52631c2b",
   "metadata": {},
   "source": [
    "**experience** = Set composed of one or multiple samples which can be used to update the model (oftern referred as batch or task)"
   ]
  },
  {
   "cell_type": "markdown",
   "id": "04c40761",
   "metadata": {},
   "source": [
    "## Modules"
   ]
  },
  {
   "cell_type": "markdown",
   "id": "d04c0fd0",
   "metadata": {},
   "source": [
    "Every continual learning algorithm needs a model to train incrementally.\n",
    "\n",
    "The `models` sub-module provides for you the most commonly used architectures in the CL literature."
   ]
  },
  {
   "cell_type": "code",
   "execution_count": null,
   "id": "3a08297d",
   "metadata": {},
   "outputs": [],
   "source": [
    "from avalanche.models import SimpleCNN\n",
    "from avalanche.models import SimpleMLP\n",
    "from avalanche.models import SimpleMLP_TinyImageNet\n",
    "from avalanche.models import MobilenetV1\n",
    "\n",
    "model = SimpleCNN()\n",
    "\n",
    "print(model)"
   ]
  },
  {
   "cell_type": "markdown",
   "id": "ed2c6b15",
   "metadata": {},
   "source": [
    "A continual learning model may change over time. As an example, a classifier may add new units for previously unseen classes, while progressive networks add a new set units after each experience. Avalanche provides `DynamicModules` to support these use cases. \n",
    "\n",
    "`DynamicModules` are torch.nn.Modules that provide an addition method, adaptation, that is used to update the model's architecture. The method takes a single argument, the data from the current experience."
   ]
  },
  {
   "cell_type": "code",
   "execution_count": null,
   "id": "b47b0be1",
   "metadata": {},
   "outputs": [],
   "source": [
    "# Import benchmark\n",
    "from avalanche.benchmarks import SplitMNIST\n",
    "\n",
    "# Import model\n",
    "from avalanche.models import IncrementalClassifier\n",
    "\n",
    "# Stream composed of 5 experiences from SplitMNIST dataset\n",
    "benchmark = SplitMNIST(n_experiences=5, shuffle=False)\n",
    "\n",
    "model = IncrementalClassifier(in_features=784)\n",
    "print(model)\n",
    "\n",
    "for exp in benchmark.train_stream:\n",
    "    model.adaptation(exp.dataset)\n",
    "    # After each call to the adaption method, the model adds 2 new units to account for new classes.\n",
    "    # NO learning occurs at this point, the method only modifies the model's architecture.\n",
    "    print(model)\n",
    "    \n",
    "# When you use Avalanche strategies you don't have to call the adaptation yourself. \n",
    "# Avalanche strategies automatically call the model's adaptation and update the optimizer to include new parameters."
   ]
  },
  {
   "cell_type": "markdown",
   "id": "93f12a37",
   "metadata": {},
   "source": [
    "## Benchmarks\n",
    "The benchmark module generates the data stream that the targeted system, powered by a CL strategy, is required to learn from experiences in order to improve its performance or expand its set of capabilities."
   ]
  },
  {
   "cell_type": "markdown",
   "id": "730b4146",
   "metadata": {},
   "source": [
    "### Classic benchmark"
   ]
  },
  {
   "cell_type": "code",
   "execution_count": null,
   "id": "b17f789e",
   "metadata": {},
   "outputs": [],
   "source": []
  }
 ],
 "metadata": {
  "kernelspec": {
   "display_name": "Python 3 (ipykernel)",
   "language": "python",
   "name": "python3"
  },
  "language_info": {
   "codemirror_mode": {
    "name": "ipython",
    "version": 3
   },
   "file_extension": ".py",
   "mimetype": "text/x-python",
   "name": "python",
   "nbconvert_exporter": "python",
   "pygments_lexer": "ipython3",
   "version": "3.8.12"
  }
 },
 "nbformat": 4,
 "nbformat_minor": 5
}
